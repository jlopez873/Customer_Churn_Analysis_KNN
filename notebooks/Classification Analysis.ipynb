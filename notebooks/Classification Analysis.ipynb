{
 "cells": [
  {
   "cell_type": "markdown",
   "id": "73e4a293",
   "metadata": {},
   "source": [
    "# D209 - Classification Analysis"
   ]
  },
  {
   "cell_type": "code",
   "execution_count": 1,
   "id": "eb9dad12",
   "metadata": {},
   "outputs": [],
   "source": [
    "## Import libraries/packages\n",
    "import numpy as np\n",
    "from numpy.linalg import eig\n",
    "import pandas as pd\n",
    "import seaborn as sns\n",
    "import matplotlib.pyplot as plt\n",
    "%matplotlib inline\n",
    "plt.rcParams['figure.figsize'] = (18,10)\n",
    "plt.rcParams['figure.max_open_warning'] = False\n",
    "from sklearn.preprocessing import LabelEncoder, StandardScaler\n",
    "from sklearn.model_selection import train_test_split, cross_val_score\n",
    "from sklearn.neighbors import KNeighborsClassifier\n",
    "from sklearn.metrics import confusion_matrix, roc_curve, auc\n",
    "from sklearn.ensemble import GradientBoostingClassifier"
   ]
  },
  {
   "cell_type": "markdown",
   "id": "052a8f42",
   "metadata": {},
   "source": [
    "## Data Preparation\n",
    "---"
   ]
  },
  {
   "cell_type": "code",
   "execution_count": 2,
   "id": "2c3157ea",
   "metadata": {},
   "outputs": [],
   "source": [
    "## Import data\n",
    "df = pd.read_csv('churn_clean.csv').reset_index(drop=True)"
   ]
  },
  {
   "cell_type": "markdown",
   "id": "3a6697a8",
   "metadata": {},
   "source": [
    "### Missing Values and Data Review\n",
    "---"
   ]
  },
  {
   "cell_type": "code",
   "execution_count": 3,
   "id": "bc8448ee",
   "metadata": {},
   "outputs": [
    {
     "name": "stdout",
     "output_type": "stream",
     "text": [
      "<class 'pandas.core.frame.DataFrame'>\n",
      "RangeIndex: 10000 entries, 0 to 9999\n",
      "Data columns (total 50 columns):\n",
      " #   Column                Non-Null Count  Dtype  \n",
      "---  ------                --------------  -----  \n",
      " 0   CaseOrder             10000 non-null  int64  \n",
      " 1   Customer_id           10000 non-null  object \n",
      " 2   Interaction           10000 non-null  object \n",
      " 3   UID                   10000 non-null  object \n",
      " 4   City                  10000 non-null  object \n",
      " 5   State                 10000 non-null  object \n",
      " 6   County                10000 non-null  object \n",
      " 7   Zip                   10000 non-null  int64  \n",
      " 8   Lat                   10000 non-null  float64\n",
      " 9   Lng                   10000 non-null  float64\n",
      " 10  Population            10000 non-null  int64  \n",
      " 11  Area                  10000 non-null  object \n",
      " 12  TimeZone              10000 non-null  object \n",
      " 13  Job                   10000 non-null  object \n",
      " 14  Children              10000 non-null  int64  \n",
      " 15  Age                   10000 non-null  int64  \n",
      " 16  Income                10000 non-null  float64\n",
      " 17  Marital               10000 non-null  object \n",
      " 18  Gender                10000 non-null  object \n",
      " 19  Churn                 10000 non-null  object \n",
      " 20  Outage_sec_perweek    10000 non-null  float64\n",
      " 21  Email                 10000 non-null  int64  \n",
      " 22  Contacts              10000 non-null  int64  \n",
      " 23  Yearly_equip_failure  10000 non-null  int64  \n",
      " 24  Techie                10000 non-null  object \n",
      " 25  Contract              10000 non-null  object \n",
      " 26  Port_modem            10000 non-null  object \n",
      " 27  Tablet                10000 non-null  object \n",
      " 28  InternetService       10000 non-null  object \n",
      " 29  Phone                 10000 non-null  object \n",
      " 30  Multiple              10000 non-null  object \n",
      " 31  OnlineSecurity        10000 non-null  object \n",
      " 32  OnlineBackup          10000 non-null  object \n",
      " 33  DeviceProtection      10000 non-null  object \n",
      " 34  TechSupport           10000 non-null  object \n",
      " 35  StreamingTV           10000 non-null  object \n",
      " 36  StreamingMovies       10000 non-null  object \n",
      " 37  PaperlessBilling      10000 non-null  object \n",
      " 38  PaymentMethod         10000 non-null  object \n",
      " 39  Tenure                10000 non-null  float64\n",
      " 40  MonthlyCharge         10000 non-null  float64\n",
      " 41  Bandwidth_GB_Year     10000 non-null  float64\n",
      " 42  Item1                 10000 non-null  int64  \n",
      " 43  Item2                 10000 non-null  int64  \n",
      " 44  Item3                 10000 non-null  int64  \n",
      " 45  Item4                 10000 non-null  int64  \n",
      " 46  Item5                 10000 non-null  int64  \n",
      " 47  Item6                 10000 non-null  int64  \n",
      " 48  Item7                 10000 non-null  int64  \n",
      " 49  Item8                 10000 non-null  int64  \n",
      "dtypes: float64(7), int64(16), object(27)\n",
      "memory usage: 3.8+ MB\n"
     ]
    }
   ],
   "source": [
    "## Review shape and data types\n",
    "df.info()"
   ]
  },
  {
   "cell_type": "markdown",
   "id": "c13ca580",
   "metadata": {},
   "source": [
    "### Drop and Rename\n",
    "---"
   ]
  },
  {
   "cell_type": "code",
   "execution_count": 4,
   "id": "67556e68",
   "metadata": {},
   "outputs": [],
   "source": [
    "## Drop granular data\n",
    "df.drop([\n",
    "    'CaseOrder', \n",
    "    'Customer_id', \n",
    "    'Interaction', \n",
    "    'UID', \n",
    "    'City', \n",
    "    'State',\n",
    "    'County', \n",
    "    'Zip', \n",
    "    'Lat', \n",
    "    'Lng', \n",
    "    'TimeZone', \n",
    "    'Job'\n",
    "], axis=1, inplace=True)"
   ]
  },
  {
   "cell_type": "code",
   "execution_count": 5,
   "id": "61035022",
   "metadata": {},
   "outputs": [],
   "source": [
    "## Rename non-descript variables\n",
    "df.rename({\n",
    "    'Item1':'TimelyResponse',\n",
    "    'Item2':'TimelyFixes',\n",
    "    'Item3':'TimelyReplacements',\n",
    "    'Item4':'Reliability',\n",
    "    'Item5':'Options',\n",
    "    'Item6':'RespectfulResponse',\n",
    "    'Item7':'CourteousExchange',\n",
    "    'Item8':'ActiveListening'\n",
    "}, axis=1, inplace=True)"
   ]
  },
  {
   "cell_type": "code",
   "execution_count": 6,
   "id": "86f925c2",
   "metadata": {},
   "outputs": [],
   "source": [
    "## Create a copy of the original data\n",
    "df1 = df.copy()"
   ]
  },
  {
   "cell_type": "markdown",
   "id": "0d9351fb",
   "metadata": {},
   "source": [
    "### Duplicates and Outliers\n",
    "---"
   ]
  },
  {
   "cell_type": "code",
   "execution_count": 7,
   "id": "cc80d0a8",
   "metadata": {},
   "outputs": [
    {
     "name": "stdout",
     "output_type": "stream",
     "text": [
      "Duplicate Values Found: 0\n"
     ]
    }
   ],
   "source": [
    "## Check for duplicate values\n",
    "print('Duplicate Values Found:', df.duplicated().sum())"
   ]
  },
  {
   "cell_type": "code",
   "execution_count": 8,
   "id": "f122dfde",
   "metadata": {},
   "outputs": [],
   "source": [
    "## Isolate string variables from numeric variables\n",
    "object_df = pd.DataFrame()\n",
    "for col in df.columns:\n",
    "    if df[col].dtype == object:\n",
    "        object_df[col] = df[col]\n",
    "        df = df.drop(col, axis=1)"
   ]
  },
  {
   "cell_type": "code",
   "execution_count": 9,
   "id": "cf4e845a",
   "metadata": {},
   "outputs": [],
   "source": [
    "## Scale the data\n",
    "scaler = StandardScaler()\n",
    "df = pd.DataFrame(scaler.fit_transform(df), columns=df.columns)"
   ]
  },
  {
   "cell_type": "code",
   "execution_count": 10,
   "id": "b5d202db",
   "metadata": {},
   "outputs": [
    {
     "data": {
      "text/html": [
       "<div>\n",
       "<style scoped>\n",
       "    .dataframe tbody tr th:only-of-type {\n",
       "        vertical-align: middle;\n",
       "    }\n",
       "\n",
       "    .dataframe tbody tr th {\n",
       "        vertical-align: top;\n",
       "    }\n",
       "\n",
       "    .dataframe thead th {\n",
       "        text-align: right;\n",
       "    }\n",
       "</style>\n",
       "<table border=\"1\" class=\"dataframe\">\n",
       "  <thead>\n",
       "    <tr style=\"text-align: right;\">\n",
       "      <th></th>\n",
       "      <th>Population</th>\n",
       "      <th>Children</th>\n",
       "      <th>Age</th>\n",
       "      <th>Income</th>\n",
       "      <th>Outage_sec_perweek</th>\n",
       "      <th>Email</th>\n",
       "      <th>Contacts</th>\n",
       "      <th>Yearly_equip_failure</th>\n",
       "      <th>Tenure</th>\n",
       "      <th>MonthlyCharge</th>\n",
       "      <th>Bandwidth_GB_Year</th>\n",
       "      <th>TimelyResponse</th>\n",
       "      <th>TimelyFixes</th>\n",
       "      <th>TimelyReplacements</th>\n",
       "      <th>Reliability</th>\n",
       "      <th>Options</th>\n",
       "      <th>RespectfulResponse</th>\n",
       "      <th>CourteousExchange</th>\n",
       "      <th>ActiveListening</th>\n",
       "    </tr>\n",
       "  </thead>\n",
       "  <tbody>\n",
       "    <tr>\n",
       "      <th>8</th>\n",
       "      <td>NaN</td>\n",
       "      <td>NaN</td>\n",
       "      <td>NaN</td>\n",
       "      <td>NaN</td>\n",
       "      <td>NaN</td>\n",
       "      <td>NaN</td>\n",
       "      <td>NaN</td>\n",
       "      <td>4.091701</td>\n",
       "      <td>NaN</td>\n",
       "      <td>NaN</td>\n",
       "      <td>NaN</td>\n",
       "      <td>NaN</td>\n",
       "      <td>NaN</td>\n",
       "      <td>NaN</td>\n",
       "      <td>NaN</td>\n",
       "      <td>NaN</td>\n",
       "      <td>NaN</td>\n",
       "      <td>NaN</td>\n",
       "      <td>NaN</td>\n",
       "    </tr>\n",
       "    <tr>\n",
       "      <th>10</th>\n",
       "      <td>NaN</td>\n",
       "      <td>NaN</td>\n",
       "      <td>NaN</td>\n",
       "      <td>NaN</td>\n",
       "      <td>NaN</td>\n",
       "      <td>NaN</td>\n",
       "      <td>NaN</td>\n",
       "      <td>NaN</td>\n",
       "      <td>NaN</td>\n",
       "      <td>NaN</td>\n",
       "      <td>NaN</td>\n",
       "      <td>NaN</td>\n",
       "      <td>NaN</td>\n",
       "      <td>NaN</td>\n",
       "      <td>3.414525</td>\n",
       "      <td>NaN</td>\n",
       "      <td>NaN</td>\n",
       "      <td>NaN</td>\n",
       "      <td>NaN</td>\n",
       "    </tr>\n",
       "    <tr>\n",
       "      <th>20</th>\n",
       "      <td>NaN</td>\n",
       "      <td>NaN</td>\n",
       "      <td>NaN</td>\n",
       "      <td>NaN</td>\n",
       "      <td>NaN</td>\n",
       "      <td>NaN</td>\n",
       "      <td>NaN</td>\n",
       "      <td>4.091701</td>\n",
       "      <td>NaN</td>\n",
       "      <td>NaN</td>\n",
       "      <td>NaN</td>\n",
       "      <td>NaN</td>\n",
       "      <td>NaN</td>\n",
       "      <td>NaN</td>\n",
       "      <td>NaN</td>\n",
       "      <td>NaN</td>\n",
       "      <td>NaN</td>\n",
       "      <td>NaN</td>\n",
       "      <td>NaN</td>\n",
       "    </tr>\n",
       "    <tr>\n",
       "      <th>30</th>\n",
       "      <td>NaN</td>\n",
       "      <td>3.219376</td>\n",
       "      <td>NaN</td>\n",
       "      <td>NaN</td>\n",
       "      <td>NaN</td>\n",
       "      <td>NaN</td>\n",
       "      <td>NaN</td>\n",
       "      <td>NaN</td>\n",
       "      <td>NaN</td>\n",
       "      <td>NaN</td>\n",
       "      <td>NaN</td>\n",
       "      <td>NaN</td>\n",
       "      <td>NaN</td>\n",
       "      <td>NaN</td>\n",
       "      <td>NaN</td>\n",
       "      <td>NaN</td>\n",
       "      <td>NaN</td>\n",
       "      <td>NaN</td>\n",
       "      <td>NaN</td>\n",
       "    </tr>\n",
       "    <tr>\n",
       "      <th>46</th>\n",
       "      <td>NaN</td>\n",
       "      <td>NaN</td>\n",
       "      <td>NaN</td>\n",
       "      <td>3.273556</td>\n",
       "      <td>NaN</td>\n",
       "      <td>NaN</td>\n",
       "      <td>NaN</td>\n",
       "      <td>NaN</td>\n",
       "      <td>NaN</td>\n",
       "      <td>NaN</td>\n",
       "      <td>NaN</td>\n",
       "      <td>NaN</td>\n",
       "      <td>NaN</td>\n",
       "      <td>NaN</td>\n",
       "      <td>NaN</td>\n",
       "      <td>NaN</td>\n",
       "      <td>NaN</td>\n",
       "      <td>NaN</td>\n",
       "      <td>NaN</td>\n",
       "    </tr>\n",
       "    <tr>\n",
       "      <th>...</th>\n",
       "      <td>...</td>\n",
       "      <td>...</td>\n",
       "      <td>...</td>\n",
       "      <td>...</td>\n",
       "      <td>...</td>\n",
       "      <td>...</td>\n",
       "      <td>...</td>\n",
       "      <td>...</td>\n",
       "      <td>...</td>\n",
       "      <td>...</td>\n",
       "      <td>...</td>\n",
       "      <td>...</td>\n",
       "      <td>...</td>\n",
       "      <td>...</td>\n",
       "      <td>...</td>\n",
       "      <td>...</td>\n",
       "      <td>...</td>\n",
       "      <td>...</td>\n",
       "      <td>...</td>\n",
       "    </tr>\n",
       "    <tr>\n",
       "      <th>9923</th>\n",
       "      <td>NaN</td>\n",
       "      <td>NaN</td>\n",
       "      <td>NaN</td>\n",
       "      <td>NaN</td>\n",
       "      <td>NaN</td>\n",
       "      <td>NaN</td>\n",
       "      <td>3.041027</td>\n",
       "      <td>NaN</td>\n",
       "      <td>NaN</td>\n",
       "      <td>NaN</td>\n",
       "      <td>NaN</td>\n",
       "      <td>NaN</td>\n",
       "      <td>NaN</td>\n",
       "      <td>NaN</td>\n",
       "      <td>NaN</td>\n",
       "      <td>NaN</td>\n",
       "      <td>NaN</td>\n",
       "      <td>NaN</td>\n",
       "      <td>NaN</td>\n",
       "    </tr>\n",
       "    <tr>\n",
       "      <th>9967</th>\n",
       "      <td>NaN</td>\n",
       "      <td>NaN</td>\n",
       "      <td>NaN</td>\n",
       "      <td>NaN</td>\n",
       "      <td>NaN</td>\n",
       "      <td>NaN</td>\n",
       "      <td>NaN</td>\n",
       "      <td>4.091701</td>\n",
       "      <td>NaN</td>\n",
       "      <td>NaN</td>\n",
       "      <td>NaN</td>\n",
       "      <td>NaN</td>\n",
       "      <td>NaN</td>\n",
       "      <td>NaN</td>\n",
       "      <td>NaN</td>\n",
       "      <td>NaN</td>\n",
       "      <td>NaN</td>\n",
       "      <td>NaN</td>\n",
       "      <td>NaN</td>\n",
       "    </tr>\n",
       "    <tr>\n",
       "      <th>9972</th>\n",
       "      <td>NaN</td>\n",
       "      <td>NaN</td>\n",
       "      <td>NaN</td>\n",
       "      <td>NaN</td>\n",
       "      <td>NaN</td>\n",
       "      <td>NaN</td>\n",
       "      <td>3.041027</td>\n",
       "      <td>NaN</td>\n",
       "      <td>NaN</td>\n",
       "      <td>NaN</td>\n",
       "      <td>NaN</td>\n",
       "      <td>NaN</td>\n",
       "      <td>NaN</td>\n",
       "      <td>NaN</td>\n",
       "      <td>NaN</td>\n",
       "      <td>NaN</td>\n",
       "      <td>NaN</td>\n",
       "      <td>NaN</td>\n",
       "      <td>NaN</td>\n",
       "    </tr>\n",
       "    <tr>\n",
       "      <th>9987</th>\n",
       "      <td>5.387511</td>\n",
       "      <td>NaN</td>\n",
       "      <td>NaN</td>\n",
       "      <td>NaN</td>\n",
       "      <td>NaN</td>\n",
       "      <td>NaN</td>\n",
       "      <td>NaN</td>\n",
       "      <td>NaN</td>\n",
       "      <td>NaN</td>\n",
       "      <td>NaN</td>\n",
       "      <td>NaN</td>\n",
       "      <td>NaN</td>\n",
       "      <td>NaN</td>\n",
       "      <td>NaN</td>\n",
       "      <td>NaN</td>\n",
       "      <td>NaN</td>\n",
       "      <td>NaN</td>\n",
       "      <td>NaN</td>\n",
       "      <td>NaN</td>\n",
       "    </tr>\n",
       "    <tr>\n",
       "      <th>9996</th>\n",
       "      <td>4.670977</td>\n",
       "      <td>NaN</td>\n",
       "      <td>NaN</td>\n",
       "      <td>NaN</td>\n",
       "      <td>NaN</td>\n",
       "      <td>NaN</td>\n",
       "      <td>NaN</td>\n",
       "      <td>NaN</td>\n",
       "      <td>NaN</td>\n",
       "      <td>NaN</td>\n",
       "      <td>NaN</td>\n",
       "      <td>NaN</td>\n",
       "      <td>NaN</td>\n",
       "      <td>NaN</td>\n",
       "      <td>NaN</td>\n",
       "      <td>NaN</td>\n",
       "      <td>NaN</td>\n",
       "      <td>NaN</td>\n",
       "      <td>NaN</td>\n",
       "    </tr>\n",
       "  </tbody>\n",
       "</table>\n",
       "<p>915 rows × 19 columns</p>\n",
       "</div>"
      ],
      "text/plain": [
       "      Population  Children  Age    Income  Outage_sec_perweek  Email  \\\n",
       "8            NaN       NaN  NaN       NaN                 NaN    NaN   \n",
       "10           NaN       NaN  NaN       NaN                 NaN    NaN   \n",
       "20           NaN       NaN  NaN       NaN                 NaN    NaN   \n",
       "30           NaN  3.219376  NaN       NaN                 NaN    NaN   \n",
       "46           NaN       NaN  NaN  3.273556                 NaN    NaN   \n",
       "...          ...       ...  ...       ...                 ...    ...   \n",
       "9923         NaN       NaN  NaN       NaN                 NaN    NaN   \n",
       "9967         NaN       NaN  NaN       NaN                 NaN    NaN   \n",
       "9972         NaN       NaN  NaN       NaN                 NaN    NaN   \n",
       "9987    5.387511       NaN  NaN       NaN                 NaN    NaN   \n",
       "9996    4.670977       NaN  NaN       NaN                 NaN    NaN   \n",
       "\n",
       "      Contacts  Yearly_equip_failure  Tenure  MonthlyCharge  \\\n",
       "8          NaN              4.091701     NaN            NaN   \n",
       "10         NaN                   NaN     NaN            NaN   \n",
       "20         NaN              4.091701     NaN            NaN   \n",
       "30         NaN                   NaN     NaN            NaN   \n",
       "46         NaN                   NaN     NaN            NaN   \n",
       "...        ...                   ...     ...            ...   \n",
       "9923  3.041027                   NaN     NaN            NaN   \n",
       "9967       NaN              4.091701     NaN            NaN   \n",
       "9972  3.041027                   NaN     NaN            NaN   \n",
       "9987       NaN                   NaN     NaN            NaN   \n",
       "9996       NaN                   NaN     NaN            NaN   \n",
       "\n",
       "      Bandwidth_GB_Year  TimelyResponse  TimelyFixes  TimelyReplacements  \\\n",
       "8                   NaN             NaN          NaN                 NaN   \n",
       "10                  NaN             NaN          NaN                 NaN   \n",
       "20                  NaN             NaN          NaN                 NaN   \n",
       "30                  NaN             NaN          NaN                 NaN   \n",
       "46                  NaN             NaN          NaN                 NaN   \n",
       "...                 ...             ...          ...                 ...   \n",
       "9923                NaN             NaN          NaN                 NaN   \n",
       "9967                NaN             NaN          NaN                 NaN   \n",
       "9972                NaN             NaN          NaN                 NaN   \n",
       "9987                NaN             NaN          NaN                 NaN   \n",
       "9996                NaN             NaN          NaN                 NaN   \n",
       "\n",
       "      Reliability  Options  RespectfulResponse  CourteousExchange  \\\n",
       "8             NaN      NaN                 NaN                NaN   \n",
       "10       3.414525      NaN                 NaN                NaN   \n",
       "20            NaN      NaN                 NaN                NaN   \n",
       "30            NaN      NaN                 NaN                NaN   \n",
       "46            NaN      NaN                 NaN                NaN   \n",
       "...           ...      ...                 ...                ...   \n",
       "9923          NaN      NaN                 NaN                NaN   \n",
       "9967          NaN      NaN                 NaN                NaN   \n",
       "9972          NaN      NaN                 NaN                NaN   \n",
       "9987          NaN      NaN                 NaN                NaN   \n",
       "9996          NaN      NaN                 NaN                NaN   \n",
       "\n",
       "      ActiveListening  \n",
       "8                 NaN  \n",
       "10                NaN  \n",
       "20                NaN  \n",
       "30                NaN  \n",
       "46                NaN  \n",
       "...               ...  \n",
       "9923              NaN  \n",
       "9967              NaN  \n",
       "9972              NaN  \n",
       "9987              NaN  \n",
       "9996              NaN  \n",
       "\n",
       "[915 rows x 19 columns]"
      ]
     },
     "execution_count": 10,
     "metadata": {},
     "output_type": "execute_result"
    }
   ],
   "source": [
    "## Detect outliers\n",
    "df[df.abs() > 3].dropna(how='all')"
   ]
  },
  {
   "cell_type": "code",
   "execution_count": 11,
   "id": "8acf7a48",
   "metadata": {},
   "outputs": [],
   "source": [
    "## Remove observations with absolute zscore over 3\n",
    "df = df[df.abs() < 3].dropna()"
   ]
  },
  {
   "cell_type": "code",
   "execution_count": 12,
   "id": "b7f7bf35",
   "metadata": {},
   "outputs": [
    {
     "name": "stdout",
     "output_type": "stream",
     "text": [
      "Data Lost: 9.15%\n",
      "Data Kept: 90.85%\n"
     ]
    }
   ],
   "source": [
    "## Evaluate data loss\n",
    "lost = ((len(object_df) - len(df)) / len(object_df)) * 100\n",
    "print('Data Lost: {}%\\nData Kept: {}%'.format(lost, 100-lost))"
   ]
  },
  {
   "cell_type": "code",
   "execution_count": 13,
   "id": "4de4f89a",
   "metadata": {},
   "outputs": [],
   "source": [
    "## Drop same outlier observations from object data frame\n",
    "object_df = object_df.loc[df.index]"
   ]
  },
  {
   "cell_type": "markdown",
   "id": "59bea975",
   "metadata": {},
   "source": [
    "### Encode Categoricals\n",
    "---"
   ]
  },
  {
   "cell_type": "code",
   "execution_count": 14,
   "id": "88dda3a2",
   "metadata": {},
   "outputs": [],
   "source": [
    "## Define dictionary for contract variable\n",
    "contract = {\n",
    "    'Month-to-month': 0,\n",
    "    'One year': 1,\n",
    "    'Two Year': 2\n",
    "}\n",
    "\n",
    "## Encode the contract variable and drop it from object df\n",
    "df['Contract'] = object_df['Contract'].map(contract)\n",
    "object_df.drop('Contract', axis=1, inplace=True)"
   ]
  },
  {
   "cell_type": "code",
   "execution_count": 15,
   "id": "1664fd6d",
   "metadata": {},
   "outputs": [],
   "source": [
    "## Instantiate the label encoder\n",
    "le = LabelEncoder()\n",
    "## Loop through each variable to encode it\n",
    "for col in object_df.columns:\n",
    "    if 'Yes' in object_df[col].values:\n",
    "        df[col] = le.fit_transform(object_df[col])\n",
    "        object_df.drop(col, axis=1, inplace=True)"
   ]
  },
  {
   "cell_type": "code",
   "execution_count": 16,
   "id": "0f3a79a0",
   "metadata": {},
   "outputs": [],
   "source": [
    "## Get dummy variables\n",
    "object_df = pd.get_dummies(object_df)"
   ]
  },
  {
   "cell_type": "code",
   "execution_count": 17,
   "id": "319576dd",
   "metadata": {},
   "outputs": [],
   "source": [
    "## Combine data frames\n",
    "df[object_df.columns] = object_df"
   ]
  },
  {
   "cell_type": "markdown",
   "id": "b22114a6",
   "metadata": {},
   "source": [
    "### Store Clean Data\n",
    "---"
   ]
  },
  {
   "cell_type": "code",
   "execution_count": 18,
   "id": "d0a11fd7",
   "metadata": {},
   "outputs": [],
   "source": [
    "## Save clean data set to csv file\n",
    "df.to_csv('knn_clean.csv')"
   ]
  },
  {
   "cell_type": "markdown",
   "id": "bf59e469",
   "metadata": {},
   "source": [
    "### Split Train and Test\n",
    "---"
   ]
  },
  {
   "cell_type": "code",
   "execution_count": 19,
   "id": "ef934b75",
   "metadata": {},
   "outputs": [],
   "source": [
    "## Isolate the target variable from the data\n",
    "X, y = df.drop('Churn', axis=1), df['Churn']"
   ]
  },
  {
   "cell_type": "code",
   "execution_count": 20,
   "id": "17599851",
   "metadata": {},
   "outputs": [],
   "source": [
    "## Split the data into training and testing sets\n",
    "X_train, X_test, y_train, y_test = train_test_split(X, y, train_size=0.7)"
   ]
  },
  {
   "cell_type": "code",
   "execution_count": 21,
   "id": "913d7ed0",
   "metadata": {},
   "outputs": [],
   "source": [
    "## Combine target and explanatory variables\n",
    "X_train['Churn'] = y_train\n",
    "X_test['Churn'] = y_test"
   ]
  },
  {
   "cell_type": "markdown",
   "id": "197fdf8c",
   "metadata": {},
   "source": [
    "### Store Train and Test\n",
    "---"
   ]
  },
  {
   "cell_type": "code",
   "execution_count": 22,
   "id": "a2ced765",
   "metadata": {},
   "outputs": [],
   "source": [
    "## Save training and testing data sets to csv files\n",
    "X_train.to_csv('knn_train.csv')\n",
    "X_test.to_csv('knn_test.csv')"
   ]
  },
  {
   "cell_type": "code",
   "execution_count": 23,
   "id": "e332f92e",
   "metadata": {},
   "outputs": [],
   "source": [
    "## Drop target variable from train and test sets\n",
    "X_train.drop('Churn', axis=1, inplace=True)\n",
    "X_test.drop('Churn', axis=1, inplace=True)"
   ]
  },
  {
   "cell_type": "markdown",
   "id": "18e473b1",
   "metadata": {},
   "source": [
    "### Cross Validation for k\n",
    "---"
   ]
  },
  {
   "cell_type": "code",
   "execution_count": 24,
   "id": "0b3841b8",
   "metadata": {},
   "outputs": [],
   "source": [
    "## Create a dictionary to store model metrics\n",
    "k_scores = {}"
   ]
  },
  {
   "cell_type": "code",
   "execution_count": 25,
   "id": "ce05b195",
   "metadata": {},
   "outputs": [],
   "source": [
    "## Loop through k values 10 times\n",
    "for k in range(1,11):\n",
    "    ## Define the knn classifier model\n",
    "    knn = KNeighborsClassifier(n_neighbors=k)\n",
    "    ## Evaluate the model using cross-validation\n",
    "    results = cross_val_score(knn, X, y, cv=10, scoring='accuracy')\n",
    "    ## Store the average cv score and k\n",
    "    k_scores[k] = results.mean()"
   ]
  },
  {
   "cell_type": "code",
   "execution_count": 26,
   "id": "a77c5d5f",
   "metadata": {},
   "outputs": [],
   "source": [
    "## Select the highest scoring model\n",
    "k = max(k_scores, key=k_scores.get)"
   ]
  },
  {
   "cell_type": "markdown",
   "id": "f7e0db6d",
   "metadata": {},
   "source": [
    "### Fit, Test, and Score the Model\n",
    "---"
   ]
  },
  {
   "cell_type": "code",
   "execution_count": 27,
   "id": "9010d5d4",
   "metadata": {},
   "outputs": [
    {
     "data": {
      "text/plain": [
       "KNeighborsClassifier(n_neighbors=9)"
      ]
     },
     "execution_count": 27,
     "metadata": {},
     "output_type": "execute_result"
    }
   ],
   "source": [
    "## Fit the model using the training set\n",
    "knn = KNeighborsClassifier(n_neighbors=k)\n",
    "knn.fit(X_train, y_train)"
   ]
  },
  {
   "cell_type": "code",
   "execution_count": 28,
   "id": "b019b496",
   "metadata": {},
   "outputs": [],
   "source": [
    "## Score the final model\n",
    "score = knn.score(X_test, y_test)"
   ]
  },
  {
   "cell_type": "code",
   "execution_count": 29,
   "id": "085ef368",
   "metadata": {},
   "outputs": [
    {
     "name": "stdout",
     "output_type": "stream",
     "text": [
      "Accuracy: 84.45%\n"
     ]
    }
   ],
   "source": [
    "print(f'Accuracy: {round(score*100, 2)}%')"
   ]
  },
  {
   "cell_type": "code",
   "execution_count": 30,
   "id": "b01e198d",
   "metadata": {},
   "outputs": [],
   "source": [
    "y_pred = knn.predict(X_test)"
   ]
  },
  {
   "cell_type": "code",
   "execution_count": 31,
   "id": "81a7ec7b",
   "metadata": {},
   "outputs": [],
   "source": [
    "## Define function to plot confusion matrix\n",
    "def plot_cm(y_test, y_pred, mod_name):\n",
    "    ## Get confusion matrix\n",
    "    cm = confusion_matrix(y_test, y_pred)\n",
    "    ## Plot confusion matrix\n",
    "    labels = ['Positive', 'Negative']\n",
    "    sns.heatmap(cm, annot=True, fmt='d', cmap='Blues', xticklabels=labels, yticklabels=labels)\n",
    "    plt.title('Confusion Matrix: {}'.format(mod_name))\n",
    "    plt.show()"
   ]
  },
  {
   "cell_type": "code",
   "execution_count": 32,
   "id": "86397201",
   "metadata": {},
   "outputs": [
    {
     "data": {
      "image/png": "[encoded data removed]",
      "text/plain": [
       "<Figure size 1296x720 with 2 Axes>"
      ]
     },
     "metadata": {
      "needs_background": "light"
     },
     "output_type": "display_data"
    }
   ],
   "source": [
    "## Plot the confusion matrix for the knn model\n",
    "plot_cm(y_test, y_pred, 'KNN')"
   ]
  },
  {
   "cell_type": "code",
   "execution_count": 33,
   "id": "d39eb613",
   "metadata": {},
   "outputs": [],
   "source": [
    "## Get model probabilities\n",
    "y_pred_prob = knn.predict_proba(X_test)[:,1]"
   ]
  },
  {
   "cell_type": "code",
   "execution_count": 34,
   "id": "170bd525",
   "metadata": {},
   "outputs": [],
   "source": [
    "## Calculate false and true positive rates\n",
    "fpr, tpr, thresholds = roc_curve(y_test, y_pred_prob)"
   ]
  },
  {
   "cell_type": "code",
   "execution_count": 35,
   "id": "0a600f70",
   "metadata": {},
   "outputs": [
    {
     "name": "stdout",
     "output_type": "stream",
     "text": [
      "AUC: 0.8981965528736664\n"
     ]
    }
   ],
   "source": [
    "## Calculate the AUC\n",
    "auc_score = auc(fpr, tpr)\n",
    "print(f'AUC: {auc_score}')"
   ]
  },
  {
   "cell_type": "code",
   "execution_count": 36,
   "id": "22a351d0",
   "metadata": {},
   "outputs": [
    {
     "data": {
      "image/png": "[encoded data removed]",
      "text/plain": [
       "<Figure size 1296x720 with 1 Axes>"
      ]
     },
     "metadata": {
      "needs_background": "light"
     },
     "output_type": "display_data"
    }
   ],
   "source": [
    "## Plot the ROC curve\n",
    "plt.plot(fpr, tpr, label=f'AUC = {round(auc_score, 2)}')\n",
    "## Plot the diagonal line (random classifier)\n",
    "plt.plot([0, 1], [0, 1], 'k--')\n",
    "## Fill the area under the curve\n",
    "plt.fill_between(fpr, tpr, color='blue', alpha=0.05)\n",
    "plt.xlabel('False Positive Rate (FPR)')\n",
    "plt.ylabel('True Positive Rate (TPR)')\n",
    "plt.title('ROC Curve: KNN')\n",
    "plt.legend()\n",
    "plt.show()"
   ]
  },
  {
   "cell_type": "markdown",
   "id": "4897f7af",
   "metadata": {},
   "source": [
    "### Understand Feature Importance\n",
    "---"
   ]
  },
  {
   "cell_type": "code",
   "execution_count": 37,
   "id": "3e3bb39f",
   "metadata": {},
   "outputs": [],
   "source": [
    "## Instantiate the gradient boosting model\n",
    "gini = GradientBoostingClassifier(n_estimators=1000, random_state=10, n_iter_no_change=10)"
   ]
  },
  {
   "cell_type": "code",
   "execution_count": 38,
   "id": "500d36ea",
   "metadata": {},
   "outputs": [
    {
     "data": {
      "text/plain": [
       "GradientBoostingClassifier(n_estimators=1000, n_iter_no_change=10,\n",
       "                           random_state=10)"
      ]
     },
     "execution_count": 38,
     "metadata": {},
     "output_type": "execute_result"
    }
   ],
   "source": [
    "## Fit the model\n",
    "gini.fit(X_train, y_train)"
   ]
  },
  {
   "cell_type": "code",
   "execution_count": 39,
   "id": "cf41f268",
   "metadata": {},
   "outputs": [
    {
     "name": "stdout",
     "output_type": "stream",
     "text": [
      "Best n_estimators Value: 149\n"
     ]
    }
   ],
   "source": [
    "## Print the stopping n_estimators value\n",
    "print(f'Best n_estimators Value: {gini.n_estimators_}')"
   ]
  },
  {
   "cell_type": "code",
   "execution_count": 40,
   "id": "7195a10b",
   "metadata": {},
   "outputs": [
    {
     "name": "stdout",
     "output_type": "stream",
     "text": [
      "Accuracy: 91.49%\n"
     ]
    }
   ],
   "source": [
    "## Print the model's accuracy score\n",
    "print(f'Accuracy: {round(gini.score(X, y)*100, 2)}%')"
   ]
  },
  {
   "cell_type": "code",
   "execution_count": 41,
   "id": "e1dcdc17",
   "metadata": {},
   "outputs": [],
   "source": [
    "## Store the Gini importance values\n",
    "importance = pd.DataFrame(gini.feature_importances_, index=gini.feature_names_in_, columns=['gini'])\n",
    "importance.sort_values('gini', ascending=False, inplace=True)"
   ]
  },
  {
   "cell_type": "code",
   "execution_count": 42,
   "id": "913a0018",
   "metadata": {},
   "outputs": [
    {
     "data": {
      "text/html": [
       "<div>\n",
       "<style scoped>\n",
       "    .dataframe tbody tr th:only-of-type {\n",
       "        vertical-align: middle;\n",
       "    }\n",
       "\n",
       "    .dataframe tbody tr th {\n",
       "        vertical-align: top;\n",
       "    }\n",
       "\n",
       "    .dataframe thead th {\n",
       "        text-align: right;\n",
       "    }\n",
       "</style>\n",
       "<table border=\"1\" class=\"dataframe\">\n",
       "  <thead>\n",
       "    <tr style=\"text-align: right;\">\n",
       "      <th></th>\n",
       "      <th>gini</th>\n",
       "    </tr>\n",
       "  </thead>\n",
       "  <tbody>\n",
       "    <tr>\n",
       "      <th>Tenure</th>\n",
       "      <td>0.419840</td>\n",
       "    </tr>\n",
       "    <tr>\n",
       "      <th>MonthlyCharge</th>\n",
       "      <td>0.215035</td>\n",
       "    </tr>\n",
       "    <tr>\n",
       "      <th>Contract</th>\n",
       "      <td>0.155392</td>\n",
       "    </tr>\n",
       "    <tr>\n",
       "      <th>StreamingMovies</th>\n",
       "      <td>0.074470</td>\n",
       "    </tr>\n",
       "    <tr>\n",
       "      <th>StreamingTV</th>\n",
       "      <td>0.041383</td>\n",
       "    </tr>\n",
       "    <tr>\n",
       "      <th>Bandwidth_GB_Year</th>\n",
       "      <td>0.020112</td>\n",
       "    </tr>\n",
       "    <tr>\n",
       "      <th>InternetService_DSL</th>\n",
       "      <td>0.017511</td>\n",
       "    </tr>\n",
       "    <tr>\n",
       "      <th>InternetService_Fiber Optic</th>\n",
       "      <td>0.014671</td>\n",
       "    </tr>\n",
       "  </tbody>\n",
       "</table>\n",
       "</div>"
      ],
      "text/plain": [
       "                                 gini\n",
       "Tenure                       0.419840\n",
       "MonthlyCharge                0.215035\n",
       "Contract                     0.155392\n",
       "StreamingMovies              0.074470\n",
       "StreamingTV                  0.041383\n",
       "Bandwidth_GB_Year            0.020112\n",
       "InternetService_DSL          0.017511\n",
       "InternetService_Fiber Optic  0.014671"
      ]
     },
     "execution_count": 42,
     "metadata": {},
     "output_type": "execute_result"
    }
   ],
   "source": [
    "importance.head(8)"
   ]
  },
  {
   "cell_type": "markdown",
   "id": "bce7d974",
   "metadata": {},
   "source": [
    "### Predict High Churn Risk\n",
    "---"
   ]
  },
  {
   "cell_type": "code",
   "execution_count": 43,
   "id": "2c9a6f03",
   "metadata": {},
   "outputs": [],
   "source": [
    "## Create data frame from customers that have not churned\n",
    "not_churned = df[df.Churn == 0]"
   ]
  },
  {
   "cell_type": "code",
   "execution_count": 44,
   "id": "d0322e56",
   "metadata": {},
   "outputs": [],
   "source": [
    "## Split target and explanatory variables\n",
    "X_true, y_true = not_churned.drop('Churn', axis=1), not_churned['Churn']"
   ]
  },
  {
   "cell_type": "code",
   "execution_count": 45,
   "id": "8ae108a7",
   "metadata": {},
   "outputs": [],
   "source": [
    "## Predict what currentcustomers are at highest risk of churn\n",
    "y_pred = knn.predict(X_true)"
   ]
  },
  {
   "cell_type": "code",
   "execution_count": 46,
   "id": "8e1ad44e",
   "metadata": {},
   "outputs": [
    {
     "data": {
      "image/png": "[encoded data removed]",
      "text/plain": [
       "<Figure size 1296x720 with 2 Axes>"
      ]
     },
     "metadata": {
      "needs_background": "light"
     },
     "output_type": "display_data"
    }
   ],
   "source": [
    "plot_cm(y_true, y_pred, 'KNN Predictions')"
   ]
  },
  {
   "cell_type": "code",
   "execution_count": 47,
   "id": "82c243aa",
   "metadata": {},
   "outputs": [],
   "source": [
    "## Get model probabilities\n",
    "y_pred_prob = knn.predict_proba(X_true)[:,1]"
   ]
  },
  {
   "cell_type": "code",
   "execution_count": 48,
   "id": "275826ca",
   "metadata": {},
   "outputs": [
    {
     "data": {
      "text/plain": [
       "(388, 6278)"
      ]
     },
     "execution_count": 48,
     "metadata": {},
     "output_type": "execute_result"
    }
   ],
   "source": [
    "## Calculate the amount of positive and negative predictions\n",
    "pos = np.count_nonzero(y_pred!=0)\n",
    "neg = np.count_nonzero(y_pred==0)\n",
    "pos, neg"
   ]
  },
  {
   "cell_type": "code",
   "execution_count": 49,
   "id": "63e9b572",
   "metadata": {},
   "outputs": [],
   "source": [
    "## Calculate the false and true, positive and negative rates\n",
    "fpr = fpr.mean()\n",
    "tpr = tpr.mean()\n",
    "fnr = 1 - tpr.mean()\n",
    "tnr = 1 - fnr"
   ]
  },
  {
   "cell_type": "code",
   "execution_count": 50,
   "id": "d7acd824",
   "metadata": {},
   "outputs": [],
   "source": [
    "## Calculate the amount of false positives and negatives\n",
    "fp = int(fpr * neg)\n",
    "fn = int((1 - tpr) * pos)"
   ]
  },
  {
   "cell_type": "code",
   "execution_count": 51,
   "id": "2ae9c840",
   "metadata": {},
   "outputs": [
    {
     "data": {
      "text/plain": [
       "(0.45032866178841624, 0.21361127582903802)"
      ]
     },
     "execution_count": 51,
     "metadata": {},
     "output_type": "execute_result"
    }
   ],
   "source": [
    "## Compare false negative and positive rates\n",
    "fnr, fpr"
   ]
  },
  {
   "cell_type": "code",
   "execution_count": 52,
   "id": "df16e59f",
   "metadata": {},
   "outputs": [],
   "source": [
    "## Combine the predicted values with explanatory features\n",
    "X_true['Churn'] = y_pred"
   ]
  },
  {
   "cell_type": "markdown",
   "id": "91c4845f",
   "metadata": {},
   "source": [
    "### Review High Churn Risk Customers\n",
    "---"
   ]
  },
  {
   "cell_type": "code",
   "execution_count": 53,
   "id": "b302d681",
   "metadata": {},
   "outputs": [],
   "source": [
    "## Recall the customers that have been predicted to churn\n",
    "churn = df1.loc[X_true[X_true.Churn == 1].index].drop('Churn', axis=1).reset_index(drop=True)"
   ]
  },
  {
   "cell_type": "code",
   "execution_count": 54,
   "id": "081223a6",
   "metadata": {},
   "outputs": [
    {
     "data": {
      "text/html": [
       "<div>\n",
       "<style scoped>\n",
       "    .dataframe tbody tr th:only-of-type {\n",
       "        vertical-align: middle;\n",
       "    }\n",
       "\n",
       "    .dataframe tbody tr th {\n",
       "        vertical-align: top;\n",
       "    }\n",
       "\n",
       "    .dataframe thead th {\n",
       "        text-align: right;\n",
       "    }\n",
       "</style>\n",
       "<table border=\"1\" class=\"dataframe\">\n",
       "  <thead>\n",
       "    <tr style=\"text-align: right;\">\n",
       "      <th></th>\n",
       "      <th>Tenure</th>\n",
       "      <th>MonthlyCharge</th>\n",
       "      <th>Bandwidth_GB_Year</th>\n",
       "    </tr>\n",
       "  </thead>\n",
       "  <tbody>\n",
       "    <tr>\n",
       "      <th>count</th>\n",
       "      <td>388.000000</td>\n",
       "      <td>388.000000</td>\n",
       "      <td>388.000000</td>\n",
       "    </tr>\n",
       "    <tr>\n",
       "      <th>mean</th>\n",
       "      <td>10.601954</td>\n",
       "      <td>178.602950</td>\n",
       "      <td>1396.376984</td>\n",
       "    </tr>\n",
       "    <tr>\n",
       "      <th>std</th>\n",
       "      <td>7.639235</td>\n",
       "      <td>36.600657</td>\n",
       "      <td>711.959508</td>\n",
       "    </tr>\n",
       "    <tr>\n",
       "      <th>min</th>\n",
       "      <td>1.042141</td>\n",
       "      <td>94.972827</td>\n",
       "      <td>223.476583</td>\n",
       "    </tr>\n",
       "    <tr>\n",
       "      <th>25%</th>\n",
       "      <td>5.447317</td>\n",
       "      <td>149.982819</td>\n",
       "      <td>935.455451</td>\n",
       "    </tr>\n",
       "    <tr>\n",
       "      <th>50%</th>\n",
       "      <td>9.357367</td>\n",
       "      <td>179.947583</td>\n",
       "      <td>1291.718181</td>\n",
       "    </tr>\n",
       "    <tr>\n",
       "      <th>75%</th>\n",
       "      <td>14.477495</td>\n",
       "      <td>204.963378</td>\n",
       "      <td>1762.640120</td>\n",
       "    </tr>\n",
       "    <tr>\n",
       "      <th>max</th>\n",
       "      <td>67.736390</td>\n",
       "      <td>287.642700</td>\n",
       "      <td>6667.024092</td>\n",
       "    </tr>\n",
       "  </tbody>\n",
       "</table>\n",
       "</div>"
      ],
      "text/plain": [
       "           Tenure  MonthlyCharge  Bandwidth_GB_Year\n",
       "count  388.000000     388.000000         388.000000\n",
       "mean    10.601954     178.602950        1396.376984\n",
       "std      7.639235      36.600657         711.959508\n",
       "min      1.042141      94.972827         223.476583\n",
       "25%      5.447317     149.982819         935.455451\n",
       "50%      9.357367     179.947583        1291.718181\n",
       "75%     14.477495     204.963378        1762.640120\n",
       "max     67.736390     287.642700        6667.024092"
      ]
     },
     "execution_count": 54,
     "metadata": {},
     "output_type": "execute_result"
    }
   ],
   "source": [
    "churn[['Tenure', 'MonthlyCharge', 'Bandwidth_GB_Year']].describe()"
   ]
  },
  {
   "cell_type": "code",
   "execution_count": 55,
   "id": "4288b397",
   "metadata": {},
   "outputs": [
    {
     "name": "stdout",
     "output_type": "stream",
     "text": [
      "Month-to-month    213\n",
      "One year          123\n",
      "Two Year           52\n",
      "Name: Contract, dtype: int64\n",
      "No     201\n",
      "Yes    187\n",
      "Name: StreamingTV, dtype: int64\n",
      "Yes    203\n",
      "No     185\n",
      "Name: StreamingMovies, dtype: int64\n",
      "Fiber Optic    220\n",
      "DSL             95\n",
      "None            73\n",
      "Name: InternetService, dtype: int64\n"
     ]
    }
   ],
   "source": [
    "for feature in churn[['Contract', 'StreamingTV', 'StreamingMovies', 'InternetService']]:\n",
    "    print(churn[feature].value_counts())"
   ]
  },
  {
   "cell_type": "code",
   "execution_count": null,
   "id": "1add42c3",
   "metadata": {},
   "outputs": [],
   "source": []
  }
 ],
 "metadata": {
  "kernelspec": {
   "display_name": "Python 3 (ipykernel)",
   "language": "python",
   "name": "python3"
  },
  "language_info": {
   "codemirror_mode": {
    "name": "ipython",
    "version": 3
   },
   "file_extension": ".py",
   "mimetype": "text/x-python",
   "name": "python",
   "nbconvert_exporter": "python",
   "pygments_lexer": "ipython3",
   "version": "3.9.12"
  }
 },
 "nbformat": 4,
 "nbformat_minor": 5
}
